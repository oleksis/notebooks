{
 "cells": [
  {
   "cell_type": "code",
   "execution_count": null,
   "metadata": {
    "scrolled": false
   },
   "outputs": [],
   "source": [
    "# Consumir la API de usuarios: ver online\n",
    "# http://pywombat.com/exercises/0a9e01e5/\n",
    "# API alternativa: https://gorest.co.in/public-api/users\n",
    "from datetime import date\n",
    "import json\n",
    "import requests\n",
    "import pandas as pd\n",
    "\n",
    "SECRET_TOKEN=\"YOUR_SECRET_TOKEN\"\n",
    "URL_API=f\"https://gorest.co.in/public-api/users?access-token={SECRET_TOKEN}\"\n",
    "\n",
    "users=dict()\n",
    "columns=('genero', 'nombre_completo', 'email' , 'edad')\n",
    "\n",
    "def getUsers():\n",
    "    try:\n",
    "        response=requests.get(URL_API)\n",
    "        data=response.json()\n",
    "        if data['_meta']['success']==False:\n",
    "            raise Exception(f\"{data['_meta']['message']}\")\n",
    "        users=data['result']\n",
    "    except Exception as error:\n",
    "        print(f\"ERROR {error} in API {URL_API}\")\n",
    "        users = []\n",
    "    return users\n",
    "\n",
    "def loadUsers():\n",
    "    with open('users.json', 'r') as f:\n",
    "        data=json.load(f)\n",
    "        return data['result']\n",
    "\n",
    "def getAge(str_date):\n",
    "    return date.today().year - date.fromisoformat(str_date).year\n",
    "\n",
    "#Just first page: 20 users\n",
    "for user in getUsers():\n",
    "    genero=user['gender']\n",
    "    nombre_completo=f\"{user['first_name']} {user['last_name']}\"\n",
    "    email=user['email']\n",
    "    edad=getAge(user['dob'])\n",
    "    users[email]={'genero':genero,\n",
    "                  'nombre_completo':nombre_completo,\n",
    "                  'email':email,\n",
    "                  'edad':edad}\n",
    "\n",
    "df=pd.DataFrame(data=users, index=columns).T\n",
    "df=df.rename(index=str, columns={'nombre_completo': 'nombre completo'})\n",
    "df=df.sort_values(by='edad', ascending=False)\n",
    "# df.to_excel('usuarios.xls', index=False)\n",
    "# print('Write usuarios.xls. Done!')\n",
    "df"
   ]
  }
 ],
 "metadata": {
  "kernelspec": {
   "display_name": "Python 3",
   "language": "python",
   "name": "python3"
  },
  "language_info": {
   "codemirror_mode": {
    "name": "ipython",
    "version": 3
   },
   "file_extension": ".py",
   "mimetype": "text/x-python",
   "name": "python",
   "nbconvert_exporter": "python",
   "pygments_lexer": "ipython3",
   "version": "3.7.1"
  }
 },
 "nbformat": 4,
 "nbformat_minor": 2
}
