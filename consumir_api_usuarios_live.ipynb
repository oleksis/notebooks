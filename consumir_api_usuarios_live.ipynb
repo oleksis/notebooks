{
 "cells": [
  {
   "cell_type": "code",
   "execution_count": null,
   "metadata": {},
   "outputs": [],
   "source": [
    "# Consumir la API de usuarios: ver online\n",
    "# http://pywombat.com/exercises/0a9e01e5/\n",
    "import time\n",
    "import json\n",
    "import requests\n",
    "import pandas as pd\n",
    "\n",
    "users=dict()\n",
    "columns=('genero', 'nombre_completo', 'email' , 'edad')\n",
    "\n",
    "def getUser():\n",
    "    response=requests.get('https://randomuser.me/api/')\n",
    "    user=response.json()['results'][0]\n",
    "    return user\n",
    "# Five Users\n",
    "while len(users)<5:\n",
    "    data=getUser()\n",
    "    genero=data['gender']\n",
    "    nombre=data['name']\n",
    "    nombre_completo=f\"{nombre['title']} {nombre['first']} {nombre['last']}\"\n",
    "    email=data['email']\n",
    "    edad=data['dob']['age']\n",
    "    if email not in users.keys():\n",
    "        users[email]={'genero':genero,\n",
    "                      'nombre_completo':nombre_completo,\n",
    "                      'email':email,\n",
    "                      'edad':edad}\n",
    "    time.sleep(3)\n",
    "\n",
    "df=pd.DataFrame(data=users, index=columns).T\n",
    "df=df.rename(index=str, columns={'nombre_completo': 'nombre completo'})\n",
    "df=df.sort_values(by='edad', ascending=False)\n",
    "df\n",
    "#df.to_excel('usuarios.xls', index=False)\n",
    "#print('Write usuarios.xls. Done!')"
   ]
  }
 ],
 "metadata": {
  "kernelspec": {
   "display_name": "Python 3",
   "language": "python",
   "name": "python3"
  },
  "language_info": {
   "codemirror_mode": {
    "name": "ipython",
    "version": 3
   },
   "file_extension": ".py",
   "mimetype": "text/x-python",
   "name": "python",
   "nbconvert_exporter": "python",
   "pygments_lexer": "ipython3",
   "version": "3.7.1"
  }
 },
 "nbformat": 4,
 "nbformat_minor": 2
}
