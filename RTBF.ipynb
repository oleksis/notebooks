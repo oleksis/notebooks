{
  "nbformat": 4,
  "nbformat_minor": 0,
  "metadata": {
    "colab": {
      "name": "RTBF.ipynb",
      "provenance": [],
      "collapsed_sections": [],
      "authorship_tag": "ABX9TyOiw82XKQbEycmccUosv3NU",
      "include_colab_link": true
    },
    "kernelspec": {
      "name": "python3",
      "display_name": "Python 3"
    }
  },
  "cells": [
    {
      "cell_type": "markdown",
      "metadata": {
        "id": "view-in-github",
        "colab_type": "text"
      },
      "source": [
        "<a href=\"https://colab.research.google.com/github/oleksis/notebooks/blob/master/RTBF.ipynb\" target=\"_parent\"><img src=\"https://colab.research.google.com/assets/colab-badge.svg\" alt=\"Open In Colab\"/></a>"
      ]
    },
    {
      "cell_type": "code",
      "metadata": {
        "colab": {
          "base_uri": "https://localhost:8080/"
        },
        "id": "Yed3aiQwb6SQ",
        "outputId": "fbb31a7d-bc41-49de-db12-a7a717af3ba1"
      },
      "source": [
        "!pip install youtube-dl"
      ],
      "execution_count": 1,
      "outputs": [
        {
          "output_type": "stream",
          "text": [
            "Requirement already satisfied: youtube-dl in /usr/local/lib/python3.7/dist-packages (2021.3.3)\n"
          ],
          "name": "stdout"
        }
      ]
    },
    {
      "cell_type": "code",
      "metadata": {
        "colab": {
          "base_uri": "https://localhost:8080/"
        },
        "id": "o3ikAbU8cGxi",
        "outputId": "5b82d265-4cc6-4c74-80d7-5fe26bd4f38b"
      },
      "source": [
        "!youtube-dl -v --geo-bypass-country GB http://www.rtbf.be/auvio/detail_un-peuole-et-son-roi?id=2733851"
      ],
      "execution_count": 2,
      "outputs": [
        {
          "output_type": "stream",
          "text": [
            "[debug] System config: []\n",
            "[debug] User config: []\n",
            "[debug] Custom config: []\n",
            "[debug] Command-line args: ['-v', '--geo-bypass-country', 'GB', 'http://www.rtbf.be/auvio/detail_un-peuole-et-son-roi?id=2733851']\n",
            "[debug] Encodings: locale UTF-8, fs utf-8, out UTF-8, pref UTF-8\n",
            "[debug] youtube-dl version 2021.03.03\n",
            "[debug] Python version 3.7.10 (CPython) - Linux-4.19.112+-x86_64-with-Ubuntu-18.04-bionic\n",
            "[debug] exe versions: ffmpeg 3.4.8, ffprobe 3.4.8\n",
            "[debug] Proxy map: {}\n",
            "[debug] Using fake IP 25.151.217.123 (GB) as X-Forwarded-For.\n",
            "[RTBF] 2733851: Downloading webpage\n",
            "[RTBF] 2733851: Downloading m3u8 information\n",
            "[debug] Default format spec: bestvideo+bestaudio/best\n",
            "[debug] Invoking downloader on 'https://rtbf-vod.fl.freecaster.net/vod/rtbf/geo/drm/q/qDjzD9RMjJ-aes/qDjzD9RMjJ-aes-audio_fra=128000-video=3886000.m3u8'\n",
            "[download] Destination: Un peuple et son roi-2733851.mp4\n",
            "[debug] ffmpeg command line: ffmpeg -y -loglevel verbose -headers 'User-Agent: Mozilla/5.0 (Windows NT 10.0; Win64; x64) AppleWebKit/537.36 (KHTML, like Gecko) Chrome/74.0.3703.2 Safari/537.36\n",
            "Accept-Charset: ISO-8859-1,utf-8;q=0.7,*;q=0.7\n",
            "Accept: text/html,application/xhtml+xml,application/xml;q=0.9,*/*;q=0.8\n",
            "Accept-Encoding: gzip, deflate\n",
            "Accept-Language: en-us,en;q=0.5\n",
            "X-Forwarded-For: 25.151.217.123\n",
            "' -i https://rtbf-vod.fl.freecaster.net/vod/rtbf/geo/drm/q/qDjzD9RMjJ-aes/qDjzD9RMjJ-aes-audio_fra=128000-video=3886000.m3u8 -c copy -f mp4 'file:Un peuple et son roi-2733851.mp4.part'\n",
            "ffmpeg version 3.4.8-0ubuntu0.2 Copyright (c) 2000-2020 the FFmpeg developers\n",
            "  built with gcc 7 (Ubuntu 7.5.0-3ubuntu1~18.04)\n",
            "  configuration: --prefix=/usr --extra-version=0ubuntu0.2 --toolchain=hardened --libdir=/usr/lib/x86_64-linux-gnu --incdir=/usr/include/x86_64-linux-gnu --enable-gpl --disable-stripping --enable-avresample --enable-avisynth --enable-gnutls --enable-ladspa --enable-libass --enable-libbluray --enable-libbs2b --enable-libcaca --enable-libcdio --enable-libflite --enable-libfontconfig --enable-libfreetype --enable-libfribidi --enable-libgme --enable-libgsm --enable-libmp3lame --enable-libmysofa --enable-libopenjpeg --enable-libopenmpt --enable-libopus --enable-libpulse --enable-librubberband --enable-librsvg --enable-libshine --enable-libsnappy --enable-libsoxr --enable-libspeex --enable-libssh --enable-libtheora --enable-libtwolame --enable-libvorbis --enable-libvpx --enable-libwavpack --enable-libwebp --enable-libx265 --enable-libxml2 --enable-libxvid --enable-libzmq --enable-libzvbi --enable-omx --enable-openal --enable-opengl --enable-sdl2 --enable-libdc1394 --enable-libdrm --enable-libiec61883 --enable-chromaprint --enable-frei0r --enable-libopencv --enable-libx264 --enable-shared\n",
            "  libavutil      55. 78.100 / 55. 78.100\n",
            "  libavcodec     57.107.100 / 57.107.100\n",
            "  libavformat    57. 83.100 / 57. 83.100\n",
            "  libavdevice    57. 10.100 / 57. 10.100\n",
            "  libavfilter     6.107.100 /  6.107.100\n",
            "  libavresample   3.  7.  0 /  3.  7.  0\n",
            "  libswscale      4.  8.100 /  4.  8.100\n",
            "  libswresample   2.  9.100 /  2.  9.100\n",
            "  libpostproc    54.  7.100 / 54.  7.100\n",
            "\u001b[0;35m[hls,applehttp @ 0x5609582f6000] \u001b[0m\u001b[0;32mHLS request for url 'https://rtbf-vod.fl.freecaster.net/vod/rtbf/geo/drm/q/qDjzD9RMjJ-aes/qDjzD9RMjJ-aes-audio_fra=128000-video=3886000-1.ts', offset 0, playlist 0\n",
            "\u001b[0m\u001b[0;35m[hls,applehttp @ 0x5609582f6000] \u001b[0mOpening 'https://www.rtbf.be/api/drm/aeskey?media_id=2733851' for reading\n",
            "\u001b[0;39m[https @ 0x5609586ad520] \u001b[0m\u001b[0;33mHTTP error 403 Forbidden\n",
            "\u001b[0m\u001b[1;31mUnable to open key file https://www.rtbf.be/api/drm/aeskey?media_id=2733851\n",
            "\u001b[0m\u001b[0;35m[hls,applehttp @ 0x5609582f6000] \u001b[0mOpening 'crypto+https://rtbf-vod.fl.freecaster.net/vod/rtbf/geo/drm/q/qDjzD9RMjJ-aes/qDjzD9RMjJ-aes-audio_fra=128000-video=3886000-1.ts' for reading\n",
            "\u001b[0;35m[hls,applehttp @ 0x5609582f6000] \u001b[0m\u001b[1;31mError when loading first segment 'https://rtbf-vod.fl.freecaster.net/vod/rtbf/geo/drm/q/qDjzD9RMjJ-aes/qDjzD9RMjJ-aes-audio_fra=128000-video=3886000-1.ts'\n",
            "\u001b[0m\u001b[1;31mhttps://rtbf-vod.fl.freecaster.net/vod/rtbf/geo/drm/q/qDjzD9RMjJ-aes/qDjzD9RMjJ-aes-audio_fra=128000-video=3886000.m3u8: Invalid data found when processing input\n",
            "\u001b[0m\n",
            "\n",
            "\u001b[0;31mERROR:\u001b[0m ffmpeg exited with code 1\n",
            "  File \"/usr/local/bin/youtube-dl\", line 8, in <module>\n",
            "    sys.exit(main())\n",
            "  File \"/usr/local/lib/python3.7/dist-packages/youtube_dl/__init__.py\", line 475, in main\n",
            "    _real_main(argv)\n",
            "  File \"/usr/local/lib/python3.7/dist-packages/youtube_dl/__init__.py\", line 465, in _real_main\n",
            "    retcode = ydl.download(all_urls)\n",
            "  File \"/usr/local/lib/python3.7/dist-packages/youtube_dl/YoutubeDL.py\", line 2056, in download\n",
            "    url, force_generic_extractor=self.params.get('force_generic_extractor', False))\n",
            "  File \"/usr/local/lib/python3.7/dist-packages/youtube_dl/YoutubeDL.py\", line 799, in extract_info\n",
            "    return self.__extract_info(url, ie, download, extra_info, process)\n",
            "  File \"/usr/local/lib/python3.7/dist-packages/youtube_dl/YoutubeDL.py\", line 806, in wrapper\n",
            "    return func(self, *args, **kwargs)\n",
            "  File \"/usr/local/lib/python3.7/dist-packages/youtube_dl/YoutubeDL.py\", line 838, in __extract_info\n",
            "    return self.process_ie_result(ie_result, download, extra_info)\n",
            "  File \"/usr/local/lib/python3.7/dist-packages/youtube_dl/YoutubeDL.py\", line 872, in process_ie_result\n",
            "    return self.process_video_result(ie_result, download=download)\n",
            "  File \"/usr/local/lib/python3.7/dist-packages/youtube_dl/YoutubeDL.py\", line 1679, in process_video_result\n",
            "    self.process_info(new_info)\n",
            "  File \"/usr/local/lib/python3.7/dist-packages/youtube_dl/YoutubeDL.py\", line 1963, in process_info\n",
            "    success = dl(filename, info_dict)\n",
            "  File \"/usr/local/lib/python3.7/dist-packages/youtube_dl/YoutubeDL.py\", line 1902, in dl\n",
            "    return fd.download(name, info)\n",
            "  File \"/usr/local/lib/python3.7/dist-packages/youtube_dl/downloader/common.py\", line 366, in download\n",
            "    return self.real_download(filename, info_dict)\n",
            "  File \"/usr/local/lib/python3.7/dist-packages/youtube_dl/downloader/external.py\", line 64, in real_download\n",
            "    self.get_basename(), retval))\n",
            "  File \"/usr/local/lib/python3.7/dist-packages/youtube_dl/downloader/common.py\", line 165, in report_error\n",
            "    self.ydl.report_error(*args, **kargs)\n",
            "  File \"/usr/local/lib/python3.7/dist-packages/youtube_dl/YoutubeDL.py\", line 628, in report_error\n",
            "    self.trouble(error_message, tb)\n",
            "  File \"/usr/local/lib/python3.7/dist-packages/youtube_dl/YoutubeDL.py\", line 590, in trouble\n",
            "    tb_data = traceback.format_list(traceback.extract_stack())\n",
            "\n"
          ],
          "name": "stdout"
        }
      ]
    },
    {
      "cell_type": "code",
      "metadata": {
        "id": "m1uSGx20dobr"
      },
      "source": [
        ""
      ],
      "execution_count": null,
      "outputs": []
    },
    {
      "cell_type": "code",
      "metadata": {
        "id": "K71aymEjdbb3"
      },
      "source": [
        ""
      ],
      "execution_count": null,
      "outputs": []
    }
  ]
}