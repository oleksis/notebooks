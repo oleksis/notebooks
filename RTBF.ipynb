{
  "nbformat": 4,
  "nbformat_minor": 0,
  "metadata": {
    "colab": {
      "name": "RTBF.ipynb",
      "provenance": [],
      "collapsed_sections": [],
      "authorship_tag": "ABX9TyNUvYS4Vkbl8nSOU9ROfzlC",
      "include_colab_link": true
    },
    "kernelspec": {
      "name": "python3",
      "display_name": "Python 3"
    }
  },
  "cells": [
    {
      "cell_type": "markdown",
      "metadata": {
        "id": "view-in-github",
        "colab_type": "text"
      },
      "source": [
        "<a href=\"https://colab.research.google.com/github/oleksis/notebooks/blob/master/RTBF.ipynb\" target=\"_parent\"><img src=\"https://colab.research.google.com/assets/colab-badge.svg\" alt=\"Open In Colab\"/></a>"
      ]
    },
    {
      "cell_type": "code",
      "metadata": {
        "colab": {
          "base_uri": "https://localhost:8080/",
          "height": 0
        },
        "id": "Yed3aiQwb6SQ",
        "outputId": "caf50e86-879c-467b-8521-bf224b7d312f"
      },
      "source": [
        "!pip install youtube-dl"
      ],
      "execution_count": 1,
      "outputs": [
        {
          "output_type": "stream",
          "text": [
            "Requirement already satisfied: youtube-dl in /usr/local/lib/python3.7/dist-packages (2021.3.3)\n"
          ],
          "name": "stdout"
        }
      ]
    },
    {
      "cell_type": "code",
      "metadata": {
        "colab": {
          "base_uri": "https://localhost:8080/",
          "height": 0
        },
        "id": "_S3Im-azrkjo",
        "outputId": "0832737d-68f9-4473-ed04-ff958a858009"
      },
      "source": [
        "import youtube_dl\r\n",
        "print(youtube_dl.version.__version__)"
      ],
      "execution_count": 2,
      "outputs": [
        {
          "output_type": "stream",
          "text": [
            "2021.03.03\n"
          ],
          "name": "stdout"
        }
      ]
    },
    {
      "cell_type": "code",
      "metadata": {
        "id": "X0OJbneGgR5h",
        "colab": {
          "base_uri": "https://localhost:8080/",
          "height": 0
        },
        "outputId": "11b6dc59-2912-4ffd-9f87-0c059ad60b56"
      },
      "source": [
        "!ls"
      ],
      "execution_count": 3,
      "outputs": [
        {
          "output_type": "stream",
          "text": [
            "cookies_header.txt  cookies.txt  sample_data\n"
          ],
          "name": "stdout"
        }
      ]
    },
    {
      "cell_type": "code",
      "metadata": {
        "id": "U-i8I5PLgzWE",
        "colab": {
          "base_uri": "https://localhost:8080/",
          "height": 0
        },
        "outputId": "146f1c02-06d6-4aa8-ef7a-ff815b6cfda1"
      },
      "source": [
        "%%bash\r\n",
        "echo \"Current path: $PWD\"\r\n",
        "COOKIE_FILE=\"$PWD/cookies.txt\"\r\n",
        "if [[ -f \"$COOKIE_FILE\" ]]; then\r\n",
        "  echo \"Cookie file: $COOKIE_FILE\"\r\n",
        "else\r\n",
        "  echo \"ERROR: Dont exit Cookie file !?\"\r\n",
        "  exit 1\r\n",
        "fi "
      ],
      "execution_count": 4,
      "outputs": [
        {
          "output_type": "stream",
          "text": [
            "Current path: /content\n",
            "Cookie file: /content/cookies.txt\n"
          ],
          "name": "stdout"
        }
      ]
    },
    {
      "cell_type": "code",
      "metadata": {
        "id": "PV0h3F75B9jX"
      },
      "source": [
        "!cat ./cookies.txt"
      ],
      "execution_count": null,
      "outputs": []
    },
    {
      "cell_type": "code",
      "metadata": {
        "id": "JMANsRdKr1yd"
      },
      "source": [
        "from pathlib import Path\r\n",
        "import pandas as pd\r\n",
        "\r\n",
        "cookie_file = Path(\"./cookies.txt\")\r\n",
        "cookies_df = pd.read_csv(\r\n",
        "    cookie_file,\r\n",
        "    sep=\"\\t\",\r\n",
        "    header=None,\r\n",
        "    names=[\"domain\",\r\n",
        "           \"subdomain\",\r\n",
        "           \"path\",\r\n",
        "           \"https\",\r\n",
        "           \"expires\",\r\n",
        "           \"name\",\r\n",
        "           \"value\"],\r\n",
        "    skiprows=[0,1,2]\r\n",
        ")\r\n",
        "cookies_df"
      ],
      "execution_count": null,
      "outputs": []
    },
    {
      "cell_type": "code",
      "metadata": {
        "id": "chcPwOEyr7Pn"
      },
      "source": [
        "cookie_values = \";\".join(\r\n",
        "    [f\"{name}={value}\" for name, value in cookies_df[[\"name\", \"value\"]].values]\r\n",
        ")\r\n",
        "\r\n",
        "#cookie_values += \"\\r\\n\"\r\n",
        "cookie_values"
      ],
      "execution_count": null,
      "outputs": []
    },
    {
      "cell_type": "code",
      "metadata": {
        "colab": {
          "base_uri": "https://localhost:8080/",
          "height": 0
        },
        "id": "suJqHb16sR5t",
        "outputId": "2786a482-9722-41b1-aec4-7a02ddc25c7e"
      },
      "source": [
        "cookie_header = Path(\"./cookies_header.txt\")\r\n",
        "cookie_header.write_text(cookie_values, encoding=\"UTF-8\")"
      ],
      "execution_count": 8,
      "outputs": [
        {
          "output_type": "execute_result",
          "data": {
            "text/plain": [
              "1585"
            ]
          },
          "metadata": {
            "tags": []
          },
          "execution_count": 8
        }
      ]
    },
    {
      "cell_type": "code",
      "metadata": {
        "id": "2Wt8f67DsUVf"
      },
      "source": [
        "!cat cookies_header.txt"
      ],
      "execution_count": null,
      "outputs": []
    },
    {
      "cell_type": "code",
      "metadata": {
        "id": "onpsHQypsb5U"
      },
      "source": [
        "args_list = [\r\n",
        "    \"-v\",\r\n",
        "    \"--add-header\",\r\n",
        "    f\"Cookie:{cookie_values}\",\r\n",
        "    \"--geo-bypass\",\r\n",
        "    \"--geo-bypass-country\",\r\n",
        "    \"BE\",\r\n",
        "    \"--hls-prefer-ffmpeg\",\r\n",
        "    \"--hls-use-mpegts\",\r\n",
        "    \"--abort-on-unavailable-fragment\",\r\n",
        "    \"http://www.rtbf.be/auvio/detail_un-peuple-et-son-roi?id=2733851\"\r\n",
        "]\r\n",
        "args_list"
      ],
      "execution_count": null,
      "outputs": []
    },
    {
      "cell_type": "code",
      "metadata": {
        "id": "asf30DjVsmMk"
      },
      "source": [
        "youtube_dl.main(args_list)"
      ],
      "execution_count": null,
      "outputs": []
    },
    {
      "cell_type": "code",
      "metadata": {
        "id": "y-jMzGNAug1_"
      },
      "source": [
        "%tb"
      ],
      "execution_count": null,
      "outputs": []
    },
    {
      "cell_type": "markdown",
      "metadata": {
        "id": "0KyYYXSks2n4"
      },
      "source": [
        "!youtube-dl -v --add-header \"Cookie:$COOKIE_VALUES\" --geo-bypass --geo-bypass-country BE http://www.rtbf.be/auvio/detail_un-peuple-et-son-roi?id=2733851"
      ]
    },
    {
      "cell_type": "markdown",
      "metadata": {
        "id": "siDSt3y-tB7C"
      },
      "source": [
        "## Links:\r\n",
        "https://ffmpeg.org/pipermail/libav-user/2017-January/010012.html"
      ]
    },
    {
      "cell_type": "code",
      "metadata": {
        "id": "m1uSGx20dobr"
      },
      "source": [
        ""
      ],
      "execution_count": null,
      "outputs": []
    }
  ]
}