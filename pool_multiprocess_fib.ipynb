{
 "cells": [
  {
   "cell_type": "code",
   "execution_count": null,
   "metadata": {},
   "outputs": [],
   "source": [
    "%%writefile fibonacci.py\n",
    "def fibonacci(n):\n",
    "    if n < 2:\n",
    "        return n\n",
    "    return fibonacci(n - 1) + fibonacci(n - 2)\n"
   ]
  },
  {
   "cell_type": "code",
   "execution_count": null,
   "metadata": {
    "scrolled": true
   },
   "outputs": [],
   "source": [
    "from multiprocessing import Pool, cpu_count\n",
    "from fibonacci import fibonacci\n",
    "\n",
    "def fibs_multiprocess(n):\n",
    "    \"\"\"Fibonacci with CPU Multiprocess\"\"\"\n",
    "    with Pool(processes=cpu_count()) as cpu_pool:\n",
    "        cpu_pool.map(fibonacci, range(1, n + 1))\n",
    "\n",
    "if __name__ == \"__main__\":\n",
    "    N=30\n",
    "    %timeit fibs_multiprocess(N)\n"
   ]
  }
 ],
 "metadata": {
  "kernelspec": {
   "display_name": "Python 3",
   "language": "python",
   "name": "python3"
  },
  "language_info": {
   "codemirror_mode": {
    "name": "ipython",
    "version": 3
   },
   "file_extension": ".py",
   "mimetype": "text/x-python",
   "name": "python",
   "nbconvert_exporter": "python",
   "pygments_lexer": "ipython3",
   "version": "3.7.1"
  }
 },
 "nbformat": 4,
 "nbformat_minor": 2
}
