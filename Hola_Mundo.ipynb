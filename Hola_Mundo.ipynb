{
  "nbformat": 4,
  "nbformat_minor": 0,
  "metadata": {
    "colab": {
      "name": "Hola-Mundo.ipynb",
      "provenance": [],
      "collapsed_sections": [],
      "authorship_tag": "ABX9TyNNiebudXgRxam8nYqb4nOc",
      "include_colab_link": true
    },
    "kernelspec": {
      "name": "python3",
      "display_name": "Python 3"
    }
  },
  "cells": [
    {
      "cell_type": "markdown",
      "metadata": {
        "id": "view-in-github",
        "colab_type": "text"
      },
      "source": [
        "<a href=\"https://colab.research.google.com/github/oleksis/notebooks/blob/master/Hola_Mundo.ipynb\" target=\"_parent\"><img src=\"https://colab.research.google.com/assets/colab-badge.svg\" alt=\"Open In Colab\"/></a>"
      ]
    },
    {
      "cell_type": "code",
      "metadata": {
        "id": "7MWWoaFE2Wbh",
        "colab_type": "code",
        "colab": {
          "base_uri": "https://localhost:8080/",
          "height": 35
        },
        "outputId": "38741e0c-aa4a-4ee4-8522-648c2dcf6c87"
      },
      "source": [
        "%%writefile hola_mundo.py\n",
        "#!/usr/bin/env python2\n",
        "print 'Hola Mundo!'"
      ],
      "execution_count": 1,
      "outputs": [
        {
          "output_type": "stream",
          "text": [
            "Overwriting hola_mundo.py\n"
          ],
          "name": "stdout"
        }
      ]
    },
    {
      "cell_type": "code",
      "metadata": {
        "id": "-q_wIicU3ZPE",
        "colab_type": "code",
        "colab": {}
      },
      "source": [
        "!cp hola_mundo.py /usr/bin/hola_mundo\n",
        "!chmod +x /usr/bin/hola_mundo"
      ],
      "execution_count": 0,
      "outputs": []
    },
    {
      "cell_type": "code",
      "metadata": {
        "id": "keJ9CCmd6d3Y",
        "colab_type": "code",
        "colab": {
          "base_uri": "https://localhost:8080/",
          "height": 63
        },
        "outputId": "44bb9cb6-6048-4161-a0fa-3b2bd529f785"
      },
      "source": [
        "!hola_mundo"
      ],
      "execution_count": 3,
      "outputs": [
        {
          "output_type": "stream",
          "text": [
            "Hola Mundo!\n"
          ],
          "name": "stdout"
        }
      ]
    }
  ]
}