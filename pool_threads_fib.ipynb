{
 "cells": [
  {
   "cell_type": "code",
   "execution_count": null,
   "metadata": {
    "scrolled": true
   },
   "outputs": [],
   "source": [
    "from concurrent.futures import ThreadPoolExecutor\n",
    "from multiprocessing import Pool, cpu_count\n",
    "\n",
    "def fibonacci(n):\n",
    "    if n < 2:\n",
    "        return n\n",
    "    return fibonacci(n - 1) + fibonacci(n - 2)\n",
    "\n",
    "def fibs(n):\n",
    "    \"\"\"Fibonacci sequentially\"\"\"\n",
    "    for i in range(1, n + 1):\n",
    "        _ = fibonacci(i)\n",
    "\n",
    "def fibs_thread(n):\n",
    "    \"\"\"Fibonacci with Threads\"\"\"\n",
    "    with ThreadPoolExecutor(max_workers=4) as exct:\n",
    "        exct.map(fibonacci, range(1, n + 1))\n",
    "\n",
    "def fibs_multiprocess(n):\n",
    "    \"\"\"Fibonacci with CPU Multiprocess\"\"\"\n",
    "    with Pool(processes=cpu_count()) as cpu_pool:\n",
    "        cpu_pool.map(fibonacci, range(1, n + 1))\n",
    "\n",
    "if __name__ == \"__main__\":\n",
    "    N=30\n",
    "    %timeit fibs(N)\n",
    "    print()\n",
    "    %timeit fibs_thread(N)\n",
    "    print()\n",
    "    %timeit fibs_multiprocess(N)\n"
   ]
  },
  {
   "cell_type": "code",
   "execution_count": null,
   "metadata": {},
   "outputs": [],
   "source": []
  }
 ],
 "metadata": {
  "kernelspec": {
   "display_name": "Python 3",
   "language": "python",
   "name": "python3"
  },
  "language_info": {
   "codemirror_mode": {
    "name": "ipython",
    "version": 3
   },
   "file_extension": ".py",
   "mimetype": "text/x-python",
   "name": "python",
   "nbconvert_exporter": "python",
   "pygments_lexer": "ipython3",
   "version": "3.7.1"
  }
 },
 "nbformat": 4,
 "nbformat_minor": 2
}
